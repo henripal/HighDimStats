{
 "cells": [
  {
   "cell_type": "markdown",
   "metadata": {},
   "source": [
    "# All of Statistics (in high dimensions)\n",
    "## Chapter 1 - Probability\n",
    "\n",
    "Re-reading All of Statistics! The idea for this re-read is to \n",
    "- implement everything in a 'basic statistics' julia package.\n",
    "- focus on high dimensions, from page 1. \n",
    "\n",
    "Why? Mostly because it seems all of the statistics applications I work on are in high dimensional settings. And probability itself, in high dimensions, doesn't believe as we think it does. Typically, maximum likelihood is horrifying in dimensions larger than four (as we will see later); in reasonably standard high dimensional sets (like the n-ball), there is way more probability mass at the limit of the set than everywhere else, and so on.\n",
    "\n",
    "The idea is to clearly show these as we go along and hopefully pick up on new high dimensional intuitions."
   ]
  },
  {
   "cell_type": "markdown",
   "metadata": {},
   "source": [
    "### Implementation Notes\n",
    "\n",
    "For this chapter, and the next, we're going to set up a nice type hierarchy (strongly inspired from Distribution.jl) for probabilities, starting with sample spaces and events. \n",
    "In terms of implementation, the target for the series is to do everything in the notebook in a chapter, then clean the implementation and move it to `.jl` files for the next chapter, import the package at the start of the chapter, and have a fully implemented julia stats package at the end of the process.\n",
    "The likelihood of me actually finishing this is super low but let's try it anyway.\n",
    "\n",
    "Ok, so the chapter starts by describing a `sample space` $\\Omega$, with points $\\omega$ in $\\Omega$ being `sample outcomes`. Subsets of $\\Omega$ are `Events`. Usually we would be talking about $\\sigma$-algebras here but let's follow the text!"
   ]
  },
  {
   "cell_type": "markdown",
   "metadata": {},
   "source": [
    "We're starting by defining abstract types representing the sample space and the events. Then we separate our subtypes into discrete and continuous subtypes. Maybe there is a more elegant way to do this (using `eltype` ?)"
   ]
  },
  {
   "cell_type": "code",
   "execution_count": 18,
   "metadata": {
    "collapsed": false
   },
   "outputs": [],
   "source": [
    "abstract SampleSpace \n",
    "abstract DiscreteSampleSpace <: SampleSpace\n",
    "abstract ContinuousSampleSpace <: SampleSpace"
   ]
  },
  {
   "cell_type": "code",
   "execution_count": 19,
   "metadata": {
    "collapsed": true
   },
   "outputs": [],
   "source": [
    "abstract Event\n",
    "abstract DiscreteEvent <: Event\n",
    "abstract ContinuousEvent <: Event"
   ]
  },
  {
   "cell_type": "markdown",
   "metadata": {},
   "source": [
    "Ok, now let's definte our first concrete sample space: a finite, discrete sample space. The elements inside could essentially be anything; `String`, `Int`, whatever. So we use a parametric type to fix that. Julia will nicely infer the type from the constructor so that's one thing we don't have to worry about."
   ]
  },
  {
   "cell_type": "code",
   "execution_count": 24,
   "metadata": {
    "collapsed": false
   },
   "outputs": [
    {
     "ename": "LoadError",
     "evalue": "invalid redefinition of constant FiniteDiscreteSampleSpace",
     "output_type": "error",
     "traceback": [
      "invalid redefinition of constant FiniteDiscreteSampleSpace",
      ""
     ]
    }
   ],
   "source": [
    "type FiniteDiscreteSampleSpace{T} <: DiscreteSampleSpace\n",
    "    values::Array{T, 1}\n",
    "end\n",
    "\n",
    "type FiniteDiscreteEvent{T} <: DiscreteEvent\n",
    "    values::Array{T, 1}\n",
    "end"
   ]
  },
  {
   "cell_type": "markdown",
   "metadata": {},
   "source": [
    "And finally the first example from the book goes like this:"
   ]
  },
  {
   "cell_type": "code",
   "execution_count": 21,
   "metadata": {
    "collapsed": false
   },
   "outputs": [
    {
     "data": {
      "text/plain": [
       "FiniteDiscreteSampleSpace{String}(String[\"HH\",\"HT\",\"TH\",\"TT\"])"
      ]
     },
     "execution_count": 21,
     "metadata": {},
     "output_type": "execute_result"
    }
   ],
   "source": [
    "Ω = FiniteDiscreteSampleSpace([\"HH\", \"HT\", \"TH\", \"TT\"])\n",
    "A = "
   ]
  },
  {
   "cell_type": "code",
   "execution_count": 23,
   "metadata": {
    "collapsed": false
   },
   "outputs": [
    {
     "data": {
      "text/plain": [
       "4"
      ]
     },
     "execution_count": 23,
     "metadata": {},
     "output_type": "execute_result"
    }
   ],
   "source": []
  },
  {
   "cell_type": "code",
   "execution_count": null,
   "metadata": {
    "collapsed": true
   },
   "outputs": [],
   "source": []
  }
 ],
 "metadata": {
  "kernelspec": {
   "display_name": "Julia 0.5.2-pre",
   "language": "julia",
   "name": "julia-0.5"
  },
  "language_info": {
   "file_extension": ".jl",
   "mimetype": "application/julia",
   "name": "julia",
   "version": "0.5.2"
  }
 },
 "nbformat": 4,
 "nbformat_minor": 2
}
